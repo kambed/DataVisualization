{
 "cells": [
  {
   "attachments": {},
   "cell_type": "markdown",
   "metadata": {},
   "source": [
    "# Biblioteka Bokeh"
   ]
  },
  {
   "attachments": {},
   "cell_type": "markdown",
   "metadata": {},
   "source": [
    "Bokeh to biblioteka wyróżniająca się wysokim poziomem interaktywności. Umożliwia dostosowywanie wizualizacji w czasie rzeczywistym  dla użytkowników, którzy nie mają styczności z kodem."
   ]
  },
  {
   "cell_type": "code",
   "execution_count": 3,
   "metadata": {
    "ExecuteTime": {
     "end_time": "2024-03-14T19:37:07.022804100Z",
     "start_time": "2024-03-14T19:37:06.867804600Z"
    }
   },
   "outputs": [],
   "source": [
    "from bokeh.io import output_notebook, show\n",
    "from bokeh.plotting import figure, output_file, show\n",
    "# plus inne dodatkowe potrzebne do przygotowywanych wizualizacji"
   ]
  },
  {
   "cell_type": "code",
   "execution_count": 4,
   "metadata": {
    "ExecuteTime": {
     "end_time": "2024-03-14T19:37:11.115805600Z",
     "start_time": "2024-03-14T19:37:06.993804600Z"
    }
   },
   "outputs": [],
   "source": [
    "import numpy as np\n",
    "import pandas as pd\n",
    "\n",
    "#import matplotlib.pyplot as plt\n",
    "#import seaborn as sns\n",
    "\n",
    "data = np.genfromtxt('athlete_events_np.csv',\n",
    "                     delimiter=';',\n",
    "                     dtype=[\n",
    "                         ('ID', 'i4'),\n",
    "                         ('Name', 'U100'),\n",
    "                         ('Sex', 'U1'),\n",
    "                         ('Age', 'f4'),\n",
    "                         ('Height', 'f4'),\n",
    "                         ('Weight', 'f4'),\n",
    "                         ('Team', 'U100'),\n",
    "                         ('NOC', 'U3'),\n",
    "                         ('Games', 'U100'),\n",
    "                         ('Year', 'i4'),\n",
    "                         ('Season', 'U100'),\n",
    "                         ('City', 'U100'),\n",
    "                         ('Sport', 'U100'),\n",
    "                         ('Event', 'U100'),\n",
    "                         ('Medal', 'U100')\n",
    "                     ], names=True)\n",
    "df = pd.DataFrame(data)"
   ]
  },
  {
   "attachments": {},
   "cell_type": "markdown",
   "metadata": {},
   "source": [
    "--------------------"
   ]
  },
  {
   "attachments": {},
   "cell_type": "markdown",
   "metadata": {},
   "source": [
    "##### ⭐ Zadanie 1: "
   ]
  },
  {
   "attachments": {},
   "cell_type": "markdown",
   "metadata": {},
   "source": [
    "Przygotuj wykres punktowy (`circle`) opierając się na danych, które sam wybierzesz w sensowny sposób. W rozwiązaniu zdefiniuj własny pasek narzędzi składający się z narzędzi:\n",
    "\n",
    "- `LassoSelectTool` i `xPanTool` z kategorii narzędzi *Gestures* (*Pan/Drag tools*),\n",
    "- `PolySelectTool` z kategorii narzędzi *Gestures* (*Click/Tap tools*),\n",
    "- `WheelZoomTool` z kategorii narzędzi *Gestures* (*Scroll/Pinch tools*),\n",
    "- `UndoTool`, `RedoTool`, `ResetTool` i `SaveTool` z kategorii narzędzi *Actions*,\n",
    "- `HoverTool` z etykietami danych z kategorii narzędzi *Inspectors*.\n",
    "\n",
    "Zapoznaj się z parametrem `toolbar_location` i dobierz dla niego nową wartość. Zapoznaj się z metodą `autohide` obiektu `toolbar` i dobierz dla niego taką wartość, żeby pasek narzędzi chował się po zjechaniu kursorem myszy z wizualizacji. Zadbaj o czytelność wykresu (tytuł wykresu i podpisy osi). "
   ]
  },
  {
   "cell_type": "code",
   "execution_count": 36,
   "metadata": {
    "ExecuteTime": {
     "end_time": "2024-03-14T19:59:23.303949300Z",
     "start_time": "2024-03-14T19:59:23.103950700Z"
    }
   },
   "outputs": [],
   "source": [
    "from bokeh.layouts import column\n",
    "from bokeh.models import LassoSelectTool, PanTool, PolySelectTool, WheelZoomTool, UndoTool, RedoTool, \\\n",
    "    ResetTool, SaveTool, HoverTool\n",
    "\n",
    "height = (data['Height'])[\n",
    "    (data['NOC'] == 'POL') & (data['Year'] >= 2012) & (~np.isnan(data['Height'])) & (~np.isnan(data['Weight']))]\n",
    "weight = (data['Weight'])[\n",
    "    (data['NOC'] == 'POL') & (data['Year'] >= 2012) & (~np.isnan(data['Height'])) & (~np.isnan(data['Weight']))]\n",
    "\n",
    "p = figure(title='Weight vs Height for Polish athletes since 2012', x_axis_label='Height', y_axis_label='Weight',\n",
    "           tools=[LassoSelectTool(), PanTool(), PolySelectTool(), WheelZoomTool(), UndoTool(), RedoTool(), ResetTool(),\n",
    "                  SaveTool(), HoverTool(tooltips=[('Height', '@x'), ('Weight', '@y')])],\n",
    "           toolbar_location='above')\n",
    "p.circle(x=height, y=weight, radius=0.5, color='navy', alpha=0.5)\n",
    "p.toolbar.autohide = True\n",
    "\n",
    "show(column(p))"
   ]
  },
  {
   "attachments": {},
   "cell_type": "markdown",
   "metadata": {},
   "source": [
    "##### ⭐ Zadanie 2:"
   ]
  },
  {
   "attachments": {},
   "cell_type": "markdown",
   "metadata": {},
   "source": [
    "Przygotuj wykres liniowy (`line`) opierając się na danych, które sam wybierzesz w sensowny sposób. Uwzględnij co najmniej 3 serie danych. Każda seria danych musi być przedstawiona na osobnym podwykresie (`subplot`) jednego obrazu. Zapoznaj się z metodami `column`, `row` i `gridplot` oraz dobierz dla nich właściwą wartość mając na uwadze wizualizację określonej liczby serii danych na osobnych podwykresach. Dodaj powiązane zachowania pomiędzy podwykresami:\n",
    "\n",
    "- współdzielony ruchomy zakres dla wartości na osi X, także przy poziomym przesuwaniu wykresu,\n",
    "- współdzielony wskaźnik będący narzędziem `CrosshairTool` widoczny jednocześnie na wszystkich podwykresach.\n",
    "\n",
    "Zadbaj o czytelność wykresu (tytuł wykresu, podpisy osi i ewentualnie legenda). "
   ]
  },
  {
   "cell_type": "code",
   "execution_count": null,
   "metadata": {},
   "outputs": [],
   "source": [
    "# tutaj wpisz swoje rozwiązanie"
   ]
  },
  {
   "attachments": {},
   "cell_type": "markdown",
   "metadata": {},
   "source": [
    "##### ⭐ Zadanie 3:"
   ]
  },
  {
   "attachments": {},
   "cell_type": "markdown",
   "metadata": {},
   "source": [
    "Przygotuj wykres liniowy (`multi_line`) opierając się na danych, które sam wybierzesz w sensowny sposób. Uwzględnij co najmniej 3 serie danych. Zapoznaj się z parametrem `location` obiektu `legend` i dobierz dla niego nową wartość. Zapoznaj się z parametrem `click_policy` obiektu `legend` i dobierz dla niego taką wartość, żeby po kliknięciu w tytuł danej serii danych w legendzie, jej wizualizacji znikała z wykresu. Zadbaj o czytelność wykresu (tytuł wykresu, podpisy osi i legenda). "
   ]
  },
  {
   "cell_type": "code",
   "execution_count": null,
   "metadata": {},
   "outputs": [],
   "source": [
    "# tutaj wpisz swoje rozwiązanie"
   ]
  },
  {
   "attachments": {},
   "cell_type": "markdown",
   "metadata": {},
   "source": [
    "##### ⭐ Zadanie 4:"
   ]
  },
  {
   "attachments": {},
   "cell_type": "markdown",
   "metadata": {},
   "source": [
    "Przedstaw na dowolnym wykresie dowolne zestawienie danych przygotowane na podstawie pliku `athlete_events.csv` z pierwszego tygodnia. Zadbaj o czytelność wykresu. Do swojej wizualizacji dodaj co najmniej 3 różne widgety, które będą miały na nią wpływ:\n",
    "\n",
    "- `AutocompleteInput`,\n",
    "- `Button`,\n",
    "- `CheckboxButtonGroup`,\n",
    "- `CheckboxGroup`,\n",
    "- `ColorPicker`,\n",
    "- `DataCube`,\n",
    "- `DataTable`,\n",
    "- `DatePicker`,\n",
    "- `DateRangePicker`,\n",
    "- `MultipleDatePicker`,\n",
    "- `DatetimePicker`,\n",
    "- `DatetimeRangePicker`,\n",
    "- `MultipleDatetimePicker`,\n",
    "- `TimePicker`,\n",
    "- `DateRangeSlider`,\n",
    "- `DateSlider`,\n",
    "- `DatetimeRangeSlider`,\n",
    "- `Div`,\n",
    "- `Dropdown`,\n",
    "- `FileInput`,\n",
    "- `MultiChoice`,\n",
    "- `MultiSelect`,\n",
    "- `NumericInput`,\n",
    "- `Paragraph`,\n",
    "- `PasswordInput`,\n",
    "- `PreText`,\n",
    "- `RadioButtonGroup`,\n",
    "- `RadioGroup`,\n",
    "- `RangeSlider`,\n",
    "- `Select`,\n",
    "- `Slider`,\n",
    "- `Spinner`,\n",
    "- `Switch`,\n",
    "- `Tabs`,\n",
    "- `TextAreaInput`,\n",
    "- `TextInput`,\n",
    "- `Toggle`.\n",
    "\n",
    "Dodatkowo, zastosuj `HelpButton` z `Tooltip` lub dodaj `Tooltip` do przynajmniej 1 widgetu."
   ]
  },
  {
   "cell_type": "code",
   "execution_count": null,
   "metadata": {},
   "outputs": [],
   "source": [
    "# tutaj wpisz swoje rozwiązanie"
   ]
  }
 ],
 "metadata": {
  "kernelspec": {
   "display_name": "base",
   "language": "python",
   "name": "python3"
  },
  "language_info": {
   "codemirror_mode": {
    "name": "ipython",
    "version": 3
   },
   "file_extension": ".py",
   "mimetype": "text/x-python",
   "name": "python",
   "nbconvert_exporter": "python",
   "pygments_lexer": "ipython3",
   "version": "3.10.9"
  },
  "orig_nbformat": 4,
  "vscode": {
   "interpreter": {
    "hash": "abb5ff44d1adcbfa6557a3b916d3f2441d0d0bdfe9fde7d35b60287fdececf3d"
   }
  }
 },
 "nbformat": 4,
 "nbformat_minor": 2
}
